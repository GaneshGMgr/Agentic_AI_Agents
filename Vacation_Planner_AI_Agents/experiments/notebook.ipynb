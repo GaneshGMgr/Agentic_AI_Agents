{
 "cells": [
  {
   "cell_type": "code",
   "execution_count": 1,
   "id": "179d5936",
   "metadata": {},
   "outputs": [],
   "source": [
    "# from dotenv import load_dotenv\n",
    "# from langchain_groq import ChatGroq\n",
    "\n",
    "from langchain_ollama import ChatOllama\n",
    "from langchain_core.output_parsers import StrOutputParser"
   ]
  },
  {
   "cell_type": "code",
   "execution_count": 2,
   "id": "0abd7f9f",
   "metadata": {},
   "outputs": [],
   "source": [
    "# llm=ChatGroq(model=\"deepseek-r1-distill-llama-70b\")\n",
    "# llm.invoke(\"hi\")\n",
    "\n",
    "llm = ChatOllama(model='llama3.2:latest')"
   ]
  },
  {
   "cell_type": "code",
   "execution_count": 3,
   "id": "220351b4",
   "metadata": {},
   "outputs": [
    {
     "data": {
      "text/plain": [
       "'One two '"
      ]
     },
     "execution_count": 3,
     "metadata": {},
     "output_type": "execute_result"
    }
   ],
   "source": [
    "# With bind.\n",
    "chain = (\n",
    "    llm.bind(stop=[\"three\"])\n",
    "    | StrOutputParser()\n",
    ")\n",
    "\n",
    "chain.invoke(\"Repeat quoted words exactly: 'One two three four five.'\")"
   ]
  },
  {
   "cell_type": "code",
   "execution_count": 14,
   "id": "7186d448",
   "metadata": {},
   "outputs": [
    {
     "data": {
      "text/plain": [
       "'\"One two three four five.\"'"
      ]
     },
     "execution_count": 14,
     "metadata": {},
     "output_type": "execute_result"
    }
   ],
   "source": [
    "# Without bind.\n",
    "chain = (\n",
    "    llm\n",
    "    | StrOutputParser()\n",
    ")\n",
    "\n",
    "chain.invoke(\"Repeat quoted words exactly: 'One two three four five.'\")"
   ]
  },
  {
   "cell_type": "code",
   "execution_count": 36,
   "id": "8c0accd3",
   "metadata": {},
   "outputs": [],
   "source": [
    "from langchain.tools import tool\n",
    "from langchain_core.tools import StructuredTool\n",
    "from pydantic import BaseModel, Field\n",
    "from typing import ClassVar, Type"
   ]
  },
  {
   "cell_type": "code",
   "execution_count": null,
   "id": "c8b96e4f",
   "metadata": {},
   "outputs": [],
   "source": [
    "@tool\n",
    "def multiply(a: int, b: int) -> int:\n",
    "    \"\"\"\n",
    "    Multiply two integers.\n",
    "\n",
    "    Args:\n",
    "        a (int): The first integer.\n",
    "        b (int): The second integer.\n",
    "\n",
    "    Returns:\n",
    "        int: The product of a and b.\n",
    "    \"\"\"\n",
    "    return a * b"
   ]
  },
  {
   "cell_type": "code",
   "execution_count": null,
   "id": "91fb18f5",
   "metadata": {},
   "outputs": [
    {
     "data": {
      "text/plain": [
       "StructuredTool(name='multiply_func', description='Multiply two integers.\\n\\nArgs:\\n    a (int): The first integer.\\n    b (int): The second integer.\\n\\nReturns:\\n    int: The product of a and b.', args_schema=<class 'langchain_core.utils.pydantic.multiply_func'>, func=<function multiply_func at 0x000001D8E83FB240>)"
      ]
     },
     "execution_count": 41,
     "metadata": {},
     "output_type": "execute_result"
    }
   ],
   "source": [
    "multiply"
   ]
  },
  {
   "cell_type": "code",
   "execution_count": 25,
   "id": "85821e57",
   "metadata": {},
   "outputs": [],
   "source": [
    "class WeatherInput(BaseModel):\n",
    "    city: str"
   ]
  },
  {
   "cell_type": "code",
   "execution_count": 26,
   "id": "8ec2e3d0",
   "metadata": {},
   "outputs": [],
   "source": [
    "def get_weather(city: str) -> str:\n",
    "    \"\"\"\n",
    "    Get the weather for a given city.\n",
    "\n",
    "    Args:\n",
    "        city (str): The name of the city.\n",
    "\n",
    "    Returns:\n",
    "        str: A string describing the weather in the city.\n",
    "    \"\"\"\n",
    "    return f\"The weather in {city} is sunny.\""
   ]
  },
  {
   "cell_type": "code",
   "execution_count": null,
   "id": "19e3bb0a",
   "metadata": {},
   "outputs": [],
   "source": [
    "weather_tool = StructuredTool.from_function(\n",
    "    func=get_weather,\n",
    "    name=\"get_weather\",\n",
    "    description=\"Fetches real-time weather data for a city\",\n",
    "    args_schema=WeatherInput,\n",
    ")"
   ]
  },
  {
   "cell_type": "code",
   "execution_count": 28,
   "id": "3e3f23cb",
   "metadata": {},
   "outputs": [],
   "source": [
    "class WeatherInput(BaseModel):\n",
    "    city: str = Field(..., description=\"City name\")\n",
    "    units: str = Field(\"metric\", description=\"metric or imperial\")"
   ]
  },
  {
   "cell_type": "markdown",
   "id": "0ba1dd48",
   "metadata": {},
   "source": [
    "city: str = Field(..., description=\"City name\")\n",
    "\n",
    "- `city` must be a **string**.\n",
    "- The `Field(...)` means this field is **required** — the `...` (ellipsis) signals Pydantic that this value **must** be provided.\n",
    "- `description=\"City name\"` is metadata useful for documentation (like in Swagger UI) to tell users what this field is.\n",
    "\n",
    "units: str = Field(\"metric\", description=\"metric or imperial\")\n",
    "\n",
    "- `units` is a **string**.\n",
    "- This has a **default value** `\"metric\"` — so if the user doesn’t provide `units`, it defaults to `\"metric\"`.\n",
    "- The description again is just for documentation, explaining this field should be `\"metric\"` or `\"imperial\"` (used for temperature units, e.g., Celsius or Fahrenheit)."
   ]
  },
  {
   "cell_type": "markdown",
   "id": "74aea310",
   "metadata": {},
   "source": [
    "`GetWeatherTool :`This class wraps a weather-fetching function into a \"tool\" with metadata and input validation so it can be used safely and clearly within an AI framework."
   ]
  },
  {
   "cell_type": "code",
   "execution_count": null,
   "id": "a31a4abb",
   "metadata": {},
   "outputs": [],
   "source": [
    "from typing import ClassVar, Type\n",
    "\n",
    "class GetWeatherTool(StructuredTool):\n",
    "    name: ClassVar[str] = \"get_weather\"           \n",
    "    description: ClassVar[str] = (\n",
    "        \"Fetches weather data for a city\"\n",
    "    )\n",
    "    args_schema: ClassVar[Type[BaseModel]] = WeatherInput # validates input parameters the tool expects\n",
    "\n",
    "    def _run(self, city: str, units: str = \"metric\") -> str: # when the tool is invoked, it takes city and optional units (default \"metric\") and calls the function get_weather to fetch the weather data\n",
    "        return get_weather(city, units)"
   ]
  },
  {
   "cell_type": "code",
   "execution_count": null,
   "id": "334867d7",
   "metadata": {},
   "outputs": [],
   "source": []
  }
 ],
 "metadata": {
  "kernelspec": {
   "display_name": ".venv_3_13",
   "language": "python",
   "name": "python3"
  },
  "language_info": {
   "codemirror_mode": {
    "name": "ipython",
    "version": 3
   },
   "file_extension": ".py",
   "mimetype": "text/x-python",
   "name": "python",
   "nbconvert_exporter": "python",
   "pygments_lexer": "ipython3",
   "version": "3.13.3"
  }
 },
 "nbformat": 4,
 "nbformat_minor": 5
}
